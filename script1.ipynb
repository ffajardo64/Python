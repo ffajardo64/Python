{
  "nbformat": 4,
  "nbformat_minor": 0,
  "metadata": {
    "kernelspec": {
      "display_name": "Python 3",
      "language": "python",
      "name": "python3"
    },
    "language_info": {
      "codemirror_mode": {
        "name": "ipython",
        "version": 3
      },
      "file_extension": ".py",
      "mimetype": "text/x-python",
      "name": "python",
      "nbconvert_exporter": "python",
      "pygments_lexer": "ipython3",
      "version": "3.7.6"
    },
    "colab": {
      "name": "script1.ipynb",
      "provenance": [],
      "include_colab_link": true
    }
  },
  "cells": [
    {
      "cell_type": "markdown",
      "metadata": {
        "id": "view-in-github",
        "colab_type": "text"
      },
      "source": [
        "<a href=\"https://colab.research.google.com/github/ffajardo64/Python/blob/master/script1.ipynb\" target=\"_parent\"><img src=\"https://colab.research.google.com/assets/colab-badge.svg\" alt=\"Open In Colab\"/></a>"
      ]
    },
    {
      "cell_type": "markdown",
      "metadata": {
        "id": "arVPJZIH_Yv4",
        "colab_type": "text"
      },
      "source": [
        "# **Primeiros passos em Python**"
      ]
    },
    {
      "cell_type": "code",
      "metadata": {
        "scrolled": true,
        "id": "Kl-85qrM_Yv8",
        "colab_type": "code",
        "colab": {}
      },
      "source": [
        "# Meu primeiro programa em Python\n",
        "print(\"Olá mundo!\")"
      ],
      "execution_count": 0,
      "outputs": []
    },
    {
      "cell_type": "markdown",
      "metadata": {
        "id": "sstBoSOF_YwD",
        "colab_type": "text"
      },
      "source": [
        "### Nomes das variáveis com várias palavras\n",
        "\n",
        "Os métodos mais usados para construir um nome de variável com várias palavras são:\n",
        "\n",
        "**Caso Camelo (do inglês, Camel)**: as segundas e subsequentes palavras são maiúsculas, para facilitar a visualização dos limites das palavras. (Presumivelmente, ocorreu a alguém em algum momento que as letras maiúsculas espalhadas por todo o nome da variável se assemelhassem vagamente a corcundas de camelo). **Exemplo**: numeroDeUsuariosRegistrados\n",
        "\n",
        "**Caso Pascal**: idêntico ao caso Camelo, exceto que a primeira palavra também é maiúscula.\n",
        "**Exemplo**: NumeroDeUsuariosRegistrados\n",
        "\n",
        "**Caso de cobra**: as palavras são separadas por sublinhados.\n",
        "**Exemplo**: numero_de_usuarios_registrados"
      ]
    },
    {
      "cell_type": "code",
      "metadata": {
        "id": "IumdLP6k_YwF",
        "colab_type": "code",
        "colab": {}
      },
      "source": [
        "# Alguns nomes de variáveis válidos:\n",
        "criei_uma_variavel_com_nome_gigantesco = 1.5 # Eu uso o caso de cobra\n",
        "variavel1 = 5\n",
        "Variavel1 = 10 \n",
        "_variavel_1 = \"\"\n",
        "__________idade = 19\n",
        "_minhaVar = 55\n",
        "____texto = \"Casa\"\n",
        "\n",
        "# Mostrando o valor das variáveis\n",
        "print(variavel1)\n",
        "variavel1\n",
        "print(variavel1, _minhaVar, ____texto)"
      ],
      "execution_count": 0,
      "outputs": []
    },
    {
      "cell_type": "code",
      "metadata": {
        "id": "N5wIXYrb_YwL",
        "colab_type": "code",
        "colab": {}
      },
      "source": [
        "# Alguns nomes de variáveis inválidos:\n",
        "4num = 0\n",
        "3 = \"informe seu nome\"\n",
        "2d = 4"
      ],
      "execution_count": 0,
      "outputs": []
    },
    {
      "cell_type": "code",
      "metadata": {
        "id": "dAEGy-Ko_YwQ",
        "colab_type": "code",
        "colab": {}
      },
      "source": [
        "help(\"keywords\")"
      ],
      "execution_count": 0,
      "outputs": []
    },
    {
      "cell_type": "markdown",
      "metadata": {
        "id": "g-tZ9JCp_YwV",
        "colab_type": "text"
      },
      "source": [
        "# Cálculos em Python"
      ]
    },
    {
      "cell_type": "code",
      "metadata": {
        "id": "4-DzSLt2_YwW",
        "colab_type": "code",
        "colab": {}
      },
      "source": [
        "10 + 20 * 30"
      ],
      "execution_count": 0,
      "outputs": []
    },
    {
      "cell_type": "code",
      "metadata": {
        "id": "lxhdQfV0_Ywc",
        "colab_type": "code",
        "colab": {}
      },
      "source": [
        "(10 + 20) * 30"
      ],
      "execution_count": 0,
      "outputs": []
    },
    {
      "cell_type": "code",
      "metadata": {
        "id": "AGqNpMFx_Ywg",
        "colab_type": "code",
        "colab": {}
      },
      "source": [
        "((5 + 30) * 20 % 3 - 4) / 10 ** 2"
      ],
      "execution_count": 0,
      "outputs": []
    },
    {
      "cell_type": "code",
      "metadata": {
        "id": "iclpajDF_Yw1",
        "colab_type": "code",
        "colab": {}
      },
      "source": [
        "n = 10\n",
        "n +=10 # outra forma de somar\n",
        "print(\"n = \",n)\n",
        "\n",
        "\n",
        "n *=10 # outra forma de multiplicar\n",
        "-n     # operador unário \"-\""
      ],
      "execution_count": 0,
      "outputs": []
    },
    {
      "cell_type": "code",
      "metadata": {
        "id": "uvYgAQMm_Yw5",
        "colab_type": "code",
        "colab": {}
      },
      "source": [
        "quociente = 7 // 3\n",
        "quociente"
      ],
      "execution_count": 0,
      "outputs": []
    },
    {
      "cell_type": "code",
      "metadata": {
        "id": "ya7Iy7u1_Yw9",
        "colab_type": "code",
        "colab": {}
      },
      "source": [
        "resto = 7 % 3\n",
        "resto"
      ],
      "execution_count": 0,
      "outputs": []
    },
    {
      "cell_type": "code",
      "metadata": {
        "id": "j4KcstC2_YxC",
        "colab_type": "code",
        "colab": {}
      },
      "source": [
        "pow(2, 3) # Usen também 2**3"
      ],
      "execution_count": 0,
      "outputs": []
    },
    {
      "cell_type": "code",
      "metadata": {
        "id": "teBdpOii_YxG",
        "colab_type": "code",
        "colab": {}
      },
      "source": [
        "round(3.141592654, 3)"
      ],
      "execution_count": 0,
      "outputs": []
    },
    {
      "cell_type": "code",
      "metadata": {
        "id": "NAFNihu4_YxJ",
        "colab_type": "code",
        "colab": {}
      },
      "source": [
        "# Número complexo\n",
        "2+3j\n",
        "type(2+3j)"
      ],
      "execution_count": 0,
      "outputs": []
    },
    {
      "cell_type": "code",
      "metadata": {
        "id": "eLHrS4L-_YxM",
        "colab_type": "code",
        "colab": {}
      },
      "source": [
        "a = 2+4j #Números complexos são escritos com \"j\" como a parte imaginária. \n",
        "b = -3j\n",
        "print(type(a)) # <class 'complex'>\n",
        "print(type(b)) # <class 'complex'>"
      ],
      "execution_count": 0,
      "outputs": []
    },
    {
      "cell_type": "code",
      "metadata": {
        "id": "FoXn8PPa_YxQ",
        "colab_type": "code",
        "colab": {}
      },
      "source": [
        "c = complex(3,4) # Outra forma de escrever números complexos\n",
        "print(type(c))   # <class 'complex'>\n",
        "print(c.real)    # 3.0\n",
        "print(c.imag)    # 4.0"
      ],
      "execution_count": 0,
      "outputs": []
    },
    {
      "cell_type": "markdown",
      "metadata": {
        "id": "GmbV0nIn_YxT",
        "colab_type": "text"
      },
      "source": [
        "### Módulos math e cmath\n",
        "Mais detalhes em https://docs.python.org/3.8/library/math.html e https://docs.python.org/3.8/library/cmath.html\n"
      ]
    },
    {
      "cell_type": "code",
      "metadata": {
        "id": "xn9XuXWy_YxU",
        "colab_type": "code",
        "colab": {}
      },
      "source": [
        "# Constante π and e com math\n",
        "import math # Módulo para funções matematicas\n",
        "print(math.pi)\n",
        "print(math.e)\n",
        "\n",
        "print(\"%1.30f\" % (math.pi)) # podemos representar de maneira similar à linguagem C\n",
        "print(\"%2.30f\" % (math.e))"
      ],
      "execution_count": 0,
      "outputs": []
    },
    {
      "cell_type": "code",
      "metadata": {
        "id": "3A4Z23RY_YxX",
        "colab_type": "code",
        "colab": {}
      },
      "source": [
        "n = 5\n",
        "k = 3\n",
        "print (\"fatorial de %d \" %n, \"é \", math.factorial(n),\"\\nfactorial de %i \" %k, \"é \", math.factorial(k))"
      ],
      "execution_count": 0,
      "outputs": []
    },
    {
      "cell_type": "code",
      "metadata": {
        "id": "bZtQDbL5_Yxa",
        "colab_type": "code",
        "colab": {}
      },
      "source": [
        "num_int = 5\n",
        "num_dec = 7.3\n",
        "\n",
        "print(\"o valor é:\", num_int)\n",
        "print(\"o valor é: %i\" %num_int)\n",
        "print(\"o valor é: \" + str(num_int))\n",
        "\n",
        "print(\"Concatendo decimal:\", num_dec)\n",
        "print(\"Concatendo decimal: %.10f\" %num_dec)\n",
        "print(\"Concatendo decimal: \" + str(num_dec))"
      ],
      "execution_count": 0,
      "outputs": []
    },
    {
      "cell_type": "code",
      "metadata": {
        "id": "8j5Dy3KG_Yxd",
        "colab_type": "code",
        "colab": {}
      },
      "source": [
        "# Constante π and e com cmath\n",
        "import cmath # Módulo para funções matematicas com números complexos\n",
        "print(cmath.pi)\n",
        "print(cmath.e)"
      ],
      "execution_count": 0,
      "outputs": []
    },
    {
      "cell_type": "markdown",
      "metadata": {
        "id": "tBgdtr6B_Yxg",
        "colab_type": "text"
      },
      "source": [
        "### Atenção com a representação de ponto flutuante\n",
        "Mais detalhes em:  https://docs.python.org/3.6/tutorial/floatingpoint.html"
      ]
    },
    {
      "cell_type": "code",
      "metadata": {
        "id": "JmuGnzmS_Yxi",
        "colab_type": "code",
        "colab": {}
      },
      "source": [
        "# o valor máximo que um número de ponto flutuante pode ter é de aproximadamente 1.8 × 10^308\n",
        "1.79e308"
      ],
      "execution_count": 0,
      "outputs": []
    },
    {
      "cell_type": "code",
      "metadata": {
        "id": "-3DmOEPl_Yxl",
        "colab_type": "code",
        "colab": {}
      },
      "source": [
        "# Mais do que 1.8 × 10^308 é representado por \"inf\"\n",
        "1.8e308"
      ],
      "execution_count": 0,
      "outputs": []
    },
    {
      "cell_type": "code",
      "metadata": {
        "id": "NKyk2SCp_Yxp",
        "colab_type": "code",
        "colab": {}
      },
      "source": [
        "# O número mais próximo que um número diferente de zero pode ser de zero é aproximadamente 5.0 ⨉ 10^(-324)."
      ],
      "execution_count": 0,
      "outputs": []
    },
    {
      "cell_type": "code",
      "metadata": {
        "id": "3DpnaP4Y_Yxr",
        "colab_type": "code",
        "colab": {}
      },
      "source": [
        "5e-324"
      ],
      "execution_count": 0,
      "outputs": []
    },
    {
      "cell_type": "code",
      "metadata": {
        "id": "Kq74YVDd_Yxu",
        "colab_type": "code",
        "colab": {}
      },
      "source": [
        "# Qualquer coisa mais próxima de zero do que isso é efetivamente zero"
      ],
      "execution_count": 0,
      "outputs": []
    },
    {
      "cell_type": "code",
      "metadata": {
        "id": "MflzboIS_Yxy",
        "colab_type": "code",
        "colab": {}
      },
      "source": [
        "1e-325"
      ],
      "execution_count": 0,
      "outputs": []
    },
    {
      "cell_type": "code",
      "metadata": {
        "id": "eaLIFp_z_Yx1",
        "colab_type": "code",
        "colab": {}
      },
      "source": [
        "x = 1.1 + 2.2\n",
        "# As representações internas dos somandos não são exatamente iguais 1.1 e 2.2, respectivamente.\n",
        "x == 3.3"
      ],
      "execution_count": 0,
      "outputs": []
    },
    {
      "cell_type": "code",
      "metadata": {
        "id": "3BkE0tOA_Yx4",
        "colab_type": "code",
        "colab": {}
      },
      "source": [
        "# Como podemos contornar o problema?\n",
        "tolerancia = 0.00001\n",
        "x = 1.1 + 2.2\n",
        "abs(x - 3.3) < tolerance"
      ],
      "execution_count": 0,
      "outputs": []
    },
    {
      "cell_type": "markdown",
      "metadata": {
        "id": "2O0XHqFa_Yx7",
        "colab_type": "text"
      },
      "source": [
        "#### Encontre aqui mais funções: https://docs.python.org/3.8/library/functions.html"
      ]
    },
    {
      "cell_type": "markdown",
      "metadata": {
        "id": "5ObGQLIe_Yx8",
        "colab_type": "text"
      },
      "source": [
        "## Strings"
      ]
    },
    {
      "cell_type": "code",
      "metadata": {
        "id": "qRrryvfJ_Yx-",
        "colab_type": "code",
        "colab": {}
      },
      "source": [
        "print(\"Isso é uma string.\")\n",
        "print('Isso é uma string.')"
      ],
      "execution_count": 0,
      "outputs": []
    },
    {
      "cell_type": "code",
      "metadata": {
        "id": "6Mpt7TSF_YyB",
        "colab_type": "code",
        "colab": {}
      },
      "source": [
        "print(\"String com uma aspa (') no meio.\")\n",
        "\n",
        "print('String com uma aspa (\") no meio.')"
      ],
      "execution_count": 0,
      "outputs": []
    },
    {
      "cell_type": "code",
      "metadata": {
        "id": "uc26T6Bk_YyE",
        "colab_type": "code",
        "colab": {}
      },
      "source": [
        "print('String com uma aspa (') no meio.')"
      ],
      "execution_count": 0,
      "outputs": []
    },
    {
      "cell_type": "code",
      "metadata": {
        "id": "Ja-tisWH_YyI",
        "colab_type": "code",
        "colab": {}
      },
      "source": [
        "print('String com uma aspa (\\') no meio.')"
      ],
      "execution_count": 0,
      "outputs": []
    },
    {
      "cell_type": "code",
      "metadata": {
        "id": "s5waHkKR_YyL",
        "colab_type": "code",
        "colab": {}
      },
      "source": [
        "# Usando \"\\\" para ignorar a quebra da linha\n",
        "print(\"a\\\n",
        "  b\\\n",
        "  c\")"
      ],
      "execution_count": 0,
      "outputs": []
    },
    {
      "cell_type": "code",
      "metadata": {
        "id": "hdRG2yea_YyO",
        "colab_type": "code",
        "colab": {}
      },
      "source": [
        "# Usando \"\\\\\" para mostrar \\ (backslash)\n",
        "print(\"comando\\\\LaTeX\")"
      ],
      "execution_count": 0,
      "outputs": []
    },
    {
      "cell_type": "code",
      "metadata": {
        "id": "HAIw1cKK_YyR",
        "colab_type": "code",
        "colab": {}
      },
      "source": [
        "# Usando \\t para espaçamento horizontal\n",
        "print(\"Comando\\t\\\\LaTeX\")"
      ],
      "execution_count": 0,
      "outputs": []
    },
    {
      "cell_type": "code",
      "metadata": {
        "id": "8zQGhJ-g_YyU",
        "colab_type": "code",
        "colab": {}
      },
      "source": [
        "# Usando \\n para quebrar a linha\n",
        "print(\"Comando\\n\\\\LaTeX\")"
      ],
      "execution_count": 0,
      "outputs": []
    },
    {
      "cell_type": "code",
      "metadata": {
        "id": "ecgNMS5W_YyX",
        "colab_type": "code",
        "colab": {}
      },
      "source": [
        "# Use r ou R para desconsiderar a sequência de escape\n",
        "print(R\"Comando\\n\\\\LaTeX\")"
      ],
      "execution_count": 0,
      "outputs": []
    },
    {
      "cell_type": "code",
      "metadata": {
        "id": "BrbCVJjQ_Yya",
        "colab_type": "code",
        "colab": {}
      },
      "source": [
        "print('''Nosso string tem uma aspa simples (') e uma aspa dupla (\").''')"
      ],
      "execution_count": 0,
      "outputs": []
    },
    {
      "cell_type": "code",
      "metadata": {
        "id": "COa4E0Tp_Yyc",
        "colab_type": "code",
        "colab": {}
      },
      "source": [
        "print('''Nosso string tem uma aspa simples (\\') e uma aspa dupla (\\\").''')"
      ],
      "execution_count": 0,
      "outputs": []
    },
    {
      "cell_type": "code",
      "metadata": {
        "id": "tyHfVGl4_Yyg",
        "colab_type": "code",
        "colab": {}
      },
      "source": [
        "# Use três aspas duplas para multiplas linhas\n",
        "print(\"\"\"O string\n",
        "que estamos escrevendo\n",
        "apresenta várias linhas\"\"\")"
      ],
      "execution_count": 0,
      "outputs": []
    },
    {
      "cell_type": "code",
      "metadata": {
        "id": "IcWyw_4J_Yyj",
        "colab_type": "code",
        "colab": {}
      },
      "source": [
        "cor_da_caneta = \"azul \"\n",
        "cor_da_caneta * 3 # Podemos fazer operações com strings"
      ],
      "execution_count": 0,
      "outputs": []
    },
    {
      "cell_type": "code",
      "metadata": {
        "id": "oNJKRQsJ_Yyn",
        "colab_type": "code",
        "colab": {}
      },
      "source": [
        "nome = 'caneta '\n",
        "(nome + cor_da_caneta * 2 + nome)*2"
      ],
      "execution_count": 0,
      "outputs": []
    },
    {
      "cell_type": "code",
      "metadata": {
        "id": "9kY6q4-E_Yyq",
        "colab_type": "code",
        "colab": {}
      },
      "source": [
        "len('(nome + cor_da_caneta * 2 + nome)*2') # Permite saber o tamanho de uma string"
      ],
      "execution_count": 0,
      "outputs": []
    },
    {
      "cell_type": "code",
      "metadata": {
        "id": "nhWA21Q-_Yyt",
        "colab_type": "code",
        "colab": {}
      },
      "source": [
        "frase = \"Aprender Estatística é muito divertido!\"\n",
        "frase[0] # Mostra o primeiro caracter do string"
      ],
      "execution_count": 0,
      "outputs": []
    },
    {
      "cell_type": "code",
      "metadata": {
        "id": "mTBk3fD8_Yyx",
        "colab_type": "code",
        "colab": {}
      },
      "source": [
        "frase[len(frase)-1] # Mostra o último elemento do string"
      ],
      "execution_count": 0,
      "outputs": []
    },
    {
      "cell_type": "code",
      "metadata": {
        "id": "fWtlbHr8_Yy2",
        "colab_type": "code",
        "colab": {}
      },
      "source": [
        "frase[0:5] # Mostra os elementos do zero até o antes do 5"
      ],
      "execution_count": 0,
      "outputs": []
    },
    {
      "cell_type": "code",
      "metadata": {
        "id": "cXXmaGEK_Yy5",
        "colab_type": "code",
        "colab": {}
      },
      "source": [
        "frase[:] # Mostra todos os elementos do string"
      ],
      "execution_count": 0,
      "outputs": []
    },
    {
      "cell_type": "code",
      "metadata": {
        "id": "JY9rrvKa_Yy7",
        "colab_type": "code",
        "colab": {}
      },
      "source": [
        "print(frase[:6]) # se omitido o primeiro indice, significa 'obter desde o começo'\n",
        "\n",
        "print(frase[6:]) # Se omitido o segundo índice significa 'obter até o final'"
      ],
      "execution_count": 0,
      "outputs": []
    },
    {
      "cell_type": "code",
      "metadata": {
        "id": "EbQ92fXq_Yy-",
        "colab_type": "code",
        "colab": {}
      },
      "source": [
        "frase[2:-3] # Mostra a partir do segundo elemento até 3 elementos antes do último"
      ],
      "execution_count": 0,
      "outputs": []
    },
    {
      "cell_type": "code",
      "metadata": {
        "id": "Hkr35NyY_YzA",
        "colab_type": "code",
        "colab": {}
      },
      "source": [
        "# Podemos mostrar a string fatiada usando [começo : fim : passo]\n",
        "frase[::2] # do começo, até o fim, de 2 em 2. "
      ],
      "execution_count": 0,
      "outputs": []
    },
    {
      "cell_type": "code",
      "metadata": {
        "id": "qa8qlyW9_YzF",
        "colab_type": "code",
        "colab": {}
      },
      "source": [
        "# Passos positivos significam para frente e passos negativos significam para trás\n",
        "frase[2:-2:2] # Do terceiro, até o ante penúltimo, de 2 em 2"
      ],
      "execution_count": 0,
      "outputs": []
    },
    {
      "cell_type": "code",
      "metadata": {
        "id": "QAPVqvCV_YzH",
        "colab_type": "code",
        "colab": {}
      },
      "source": [
        "# Quando usamos passos negativos, a fatia começa no fim e termina no começo e é percorrida ao contrário. \n",
        "# Ou seja, invertemos a ordem\n",
        "frase[::-1]"
      ],
      "execution_count": 0,
      "outputs": []
    },
    {
      "cell_type": "code",
      "metadata": {
        "id": "3QUyjIz-_YzJ",
        "colab_type": "code",
        "colab": {}
      },
      "source": [
        "print(frase[38:0:-1])\n",
        "print(frase[20:5:-1])\n",
        "print(frase[::-2])"
      ],
      "execution_count": 0,
      "outputs": []
    },
    {
      "cell_type": "code",
      "metadata": {
        "id": "RUkNCkW__YzL",
        "colab_type": "code",
        "colab": {}
      },
      "source": [
        "print(\"E\" in frase)          # Verifica se E está presente em frase e retorna True\n",
        "print(\"E\" not in frase)      # Verifica se E não está presente em frase e retorna True"
      ],
      "execution_count": 0,
      "outputs": []
    },
    {
      "cell_type": "code",
      "metadata": {
        "id": "GjortcWz_YzN",
        "colab_type": "code",
        "colab": {}
      },
      "source": [
        "val_str = \"qualquer texto\"\n",
        "\n",
        "print(\"Concatendo strings\", val_str)\n",
        "print(\"Concatendo strings %s\" %val_str)\n",
        "print(\"Concatendo strings \" + val_str)"
      ],
      "execution_count": 0,
      "outputs": []
    },
    {
      "cell_type": "code",
      "metadata": {
        "id": "wTA_SZUW_YzP",
        "colab_type": "code",
        "colab": {}
      },
      "source": [
        "nome = \"Carlos\"\n",
        "curso = \"Estatística\"\n",
        "print(\"%s estuda %s na UFES\" %(nome,curso))"
      ],
      "execution_count": 0,
      "outputs": []
    },
    {
      "cell_type": "code",
      "metadata": {
        "id": "do0uyUmE_YzR",
        "colab_type": "code",
        "colab": {}
      },
      "source": [
        "''' Podemos utilizar métodos (funções especiais) para manipular strings.'''\n",
        "# Mais detalhes em https://docs.python.org/2/library/stdtypes.html#string-methods\n",
        "texto = \" muDa A priMeira leTra \"\n",
        "print(texto.capitalize()) # Retorna a string com a primeira letra em maiúscula\n",
        "print(texto.strip()) # Remove todos os espaços no começo e no fim da string\n",
        "print(texto.lower()) # Retorna a string em minúsculas\n",
        "print(texto.upper()) # Retorna a string em maiúsculas\n",
        "print(texto.replace(\"muDa\", \"Altera\")) # O método replace substitui a string com outra string\n",
        "print(texto.split(\" \")) # O método split separa a string em substrings caso haja um separador, nesse caso utilizamos o espaço (\" \") e ele nos retorna uma lista de strings"
      ],
      "execution_count": 0,
      "outputs": []
    },
    {
      "cell_type": "code",
      "metadata": {
        "id": "00DasJJR_YzT",
        "colab_type": "code",
        "colab": {}
      },
      "source": [
        "nome = \"João\"\n",
        "profissao = \"estudante\"\n",
        "print(\"A profissao de {0} é {1}\".format(nome,profissao))"
      ],
      "execution_count": 0,
      "outputs": []
    },
    {
      "cell_type": "code",
      "metadata": {
        "id": "fewBGij5_YzU",
        "colab_type": "code",
        "colab": {}
      },
      "source": [
        "print(\"{:06.2f}\".format(math.pi))\n",
        "sentenca = '1 GB é igual a {:,} bytes'.format(10**9)\n",
        "print(sentenca)"
      ],
      "execution_count": 0,
      "outputs": []
    },
    {
      "cell_type": "code",
      "metadata": {
        "id": "0beNmH1V_YzY",
        "colab_type": "code",
        "colab": {}
      },
      "source": [
        "# Códigos de Formatação\n",
        "print(\"{:d}\".format(4))\n",
        "print(\"{:b}\".format(3)) # binário\n",
        "print(\"{:x}\".format(15)) # hexadecimal\n",
        "print(\"{:}\".format([20, 30])) # lista"
      ],
      "execution_count": 0,
      "outputs": []
    },
    {
      "cell_type": "markdown",
      "metadata": {
        "id": "vnFCS84s_Yza",
        "colab_type": "text"
      },
      "source": [
        "## Comportamento inesperado!"
      ]
    },
    {
      "cell_type": "code",
      "metadata": {
        "id": "I9ovEWlz_Yzb",
        "colab_type": "code",
        "colab": {}
      },
      "source": [
        "# Variáveis identicas\n",
        "m=n=300\n",
        "type(m)"
      ],
      "execution_count": 0,
      "outputs": []
    },
    {
      "cell_type": "code",
      "metadata": {
        "id": "Ih37I5RC_Yzd",
        "colab_type": "code",
        "colab": {}
      },
      "source": [
        "id(m)"
      ],
      "execution_count": 0,
      "outputs": []
    },
    {
      "cell_type": "code",
      "metadata": {
        "id": "hxVrNJkF_Yzf",
        "colab_type": "code",
        "colab": {}
      },
      "source": [
        "# Atribui o valor 300 às variável m e n\n",
        "m = 300\n",
        "n = 300"
      ],
      "execution_count": 0,
      "outputs": []
    },
    {
      "cell_type": "code",
      "metadata": {
        "id": "aJ8QQsja_Yzh",
        "colab_type": "code",
        "colab": {}
      },
      "source": [
        "# Mostra o tipo do objeto\n",
        "type(m)"
      ],
      "execution_count": 0,
      "outputs": []
    },
    {
      "cell_type": "code",
      "metadata": {
        "id": "loOx6l5g_Yzj",
        "colab_type": "code",
        "colab": {}
      },
      "source": [
        "type(n)"
      ],
      "execution_count": 0,
      "outputs": []
    },
    {
      "cell_type": "code",
      "metadata": {
        "id": "jJkuOmRr_Yzl",
        "colab_type": "code",
        "colab": {}
      },
      "source": [
        "m == n # Compara se as variáveis tem o mesmo valor"
      ],
      "execution_count": 0,
      "outputs": []
    },
    {
      "cell_type": "code",
      "metadata": {
        "id": "Scp8SE43_Yzn",
        "colab_type": "code",
        "colab": {}
      },
      "source": [
        "m is n # Compara se os objetos são identicos"
      ],
      "execution_count": 0,
      "outputs": []
    },
    {
      "cell_type": "code",
      "metadata": {
        "id": "qfzQsQ3Q_Yzq",
        "colab_type": "code",
        "colab": {}
      },
      "source": [
        "id(m) # A função id() nos diz o endereço permanente do objeto na memória.\n",
        "print(hex(id(m))) # representação hexadecimal "
      ],
      "execution_count": 0,
      "outputs": []
    },
    {
      "cell_type": "code",
      "metadata": {
        "id": "Ya9ZEBW-_Yzs",
        "colab_type": "code",
        "colab": {}
      },
      "source": [
        "id(n) # A função id() nos diz o endereço permanente do objeto na memória.\n",
        "print(hex(id(n))) # representação hexagesimal "
      ],
      "execution_count": 0,
      "outputs": []
    },
    {
      "cell_type": "markdown",
      "metadata": {
        "id": "8tiTz5E5_Yzu",
        "colab_type": "text"
      },
      "source": [
        "# Ambos objetos compartilham o mesmo espaço na memória!\n",
        "![Texto alternativo opcional se a imagem não carregar](https://i.pinimg.com/originals/a1/a9/9a/a1a99a7985b6aa8ef6efba0e40713f22.jpg)"
      ]
    },
    {
      "cell_type": "code",
      "metadata": {
        "id": "l1hU1pc2_Yzv",
        "colab_type": "code",
        "colab": {}
      },
      "source": [
        "# Quais valores são afetados por esse comportamento?\n",
        "# Com paremos os ID atribuidos para valosres pequenos\n",
        "print(\"i\\t id(i) \\t\\t\\t id(i+1)-id(i))\")\n",
        "for i in range(-8, 259):\n",
        "    print(\"{}\\t{}\\t\\t\\t{}\".format(i, id(i),id(i+1)-id(i)))"
      ],
      "execution_count": 0,
      "outputs": []
    },
    {
      "cell_type": "markdown",
      "metadata": {
        "id": "Lal7ijTA_Yzx",
        "colab_type": "text"
      },
      "source": [
        "Portanto, ao comparar os endereços de memória desses pequenos valores inteiros, podemos ver que os valores de **-5 a 256** são \"reusados\" durante a execução do programa (dependendo da implementação do Python e da arquitetura do sistema, esses resultados podem variar). \n",
        "Reservar o mesmo espaço de memória e classificar números inteiros pequenos **aumenta o desempenho do Python**. Portanto, comparar as identidades desses pequenos números inteiros pode levar a resultados inesperados.\n",
        "\n",
        "**Observação**: Coisas similares podem acontecer com cadeia curtas de caracteres (https://stackoverflow.com/questions/38189660/two-variables-in-python-have-same-id-but-not-lists-or-tuples/38189759#38189759)."
      ]
    },
    {
      "cell_type": "markdown",
      "metadata": {
        "id": "JYwX2lj__Yzx",
        "colab_type": "text"
      },
      "source": [
        "## Atribuição múltipla"
      ]
    },
    {
      "cell_type": "code",
      "metadata": {
        "id": "EUxth2br_Yzy",
        "colab_type": "code",
        "colab": {}
      },
      "source": [
        "# Atribuindo valores\n",
        "a = 1\n",
        "b = 200\n",
        "print(a, b)"
      ],
      "execution_count": 0,
      "outputs": []
    },
    {
      "cell_type": "code",
      "metadata": {
        "id": "O8XUpiVT_Yz0",
        "colab_type": "code",
        "colab": {}
      },
      "source": [
        "# Use uma variável auxiliar para trocar o valor das variáveis\n",
        "aux = a\n",
        "a = b\n",
        "b = aux\n",
        "print(a, b)"
      ],
      "execution_count": 0,
      "outputs": []
    },
    {
      "cell_type": "code",
      "metadata": {
        "id": "hGggmeLe_Yz1",
        "colab_type": "code",
        "colab": {}
      },
      "source": [
        "# Python permite atribuição múltipla. Dessa forma, podemos trocar os valores de uma forma muito mais simples:\n",
        "a, b = b, a\n",
        "print(a, b)"
      ],
      "execution_count": 0,
      "outputs": []
    },
    {
      "cell_type": "code",
      "metadata": {
        "id": "2_z3o20b_Yz4",
        "colab_type": "code",
        "colab": {}
      },
      "source": [
        "# Uma forma simplificada de atribuir valores\n",
        "a, b, c, d = 1, 2, 3, 4\n",
        "a, b, c, d = d, c, b, a\n",
        "print(a, b, c, d)"
      ],
      "execution_count": 0,
      "outputs": []
    },
    {
      "cell_type": "markdown",
      "metadata": {
        "id": "dwWWX1cE_Yz6",
        "colab_type": "text"
      },
      "source": [
        "## Conversão do tipo"
      ]
    },
    {
      "cell_type": "code",
      "metadata": {
        "id": "R9e8fHMu_Yz6",
        "colab_type": "code",
        "colab": {}
      },
      "source": [
        "k = 3\n",
        "i = 7.7\n",
        "z = 4j\n",
        "print(type(k),type(i),type(z))\n",
        "\n",
        "# Convertendo de int para float\n",
        "print(float(k)) # 3.0\n",
        "\n",
        "# Convertendo de float para int\n",
        "print(int(i)) # 7\n",
        "\n",
        "# Convertendo de int para complex\n",
        "print(complex(k)) # (3+0j)\n",
        "\n",
        "# Convertendo de int para string\n",
        "print(str(k), type(k))"
      ],
      "execution_count": 0,
      "outputs": []
    },
    {
      "cell_type": "markdown",
      "metadata": {
        "id": "__o3q6jD_Yz8",
        "colab_type": "text"
      },
      "source": [
        "# Aprenda a usar a ajuda do python!"
      ]
    },
    {
      "cell_type": "code",
      "metadata": {
        "id": "gRKTbJ5R_Yz9",
        "colab_type": "code",
        "colab": {}
      },
      "source": [
        "help() # Use \"q\" para sair"
      ],
      "execution_count": 0,
      "outputs": []
    },
    {
      "cell_type": "code",
      "metadata": {
        "id": "6idJ8Gzs_Yz_",
        "colab_type": "code",
        "colab": {}
      },
      "source": [
        "help(len) # Busca ajuda de uma função específica"
      ],
      "execution_count": 0,
      "outputs": []
    },
    {
      "cell_type": "code",
      "metadata": {
        "id": "hfpABBmN_Y0D",
        "colab_type": "code",
        "colab": {}
      },
      "source": [
        "# Mostra uma tabela com o nome das variáveis, tipo e valor\n",
        "%whos "
      ],
      "execution_count": 0,
      "outputs": []
    },
    {
      "cell_type": "code",
      "metadata": {
        "id": "VRIaMGkf_Y0F",
        "colab_type": "code",
        "colab": {}
      },
      "source": [
        "# Mostra a listagem de variáveis\n",
        "%who_ls"
      ],
      "execution_count": 0,
      "outputs": []
    },
    {
      "cell_type": "code",
      "metadata": {
        "id": "hq2IqilI_Y0G",
        "colab_type": "code",
        "colab": {}
      },
      "source": [
        "%history # Mostra o histórico na tela"
      ],
      "execution_count": 0,
      "outputs": []
    },
    {
      "cell_type": "code",
      "metadata": {
        "id": "LYKXMmYd_Y0I",
        "colab_type": "code",
        "colab": {}
      },
      "source": [
        "# Cria um enlace para compartilhar o código. Válido por 7 dias.\n",
        "%pastebin 15-17 "
      ],
      "execution_count": 0,
      "outputs": []
    },
    {
      "cell_type": "code",
      "metadata": {
        "id": "wHJ_714X_Y0K",
        "colab_type": "code",
        "colab": {}
      },
      "source": [
        "import sys\n",
        "print(sys.version)"
      ],
      "execution_count": 0,
      "outputs": []
    },
    {
      "cell_type": "code",
      "metadata": {
        "id": "Q__kWq9G_Y0L",
        "colab_type": "code",
        "colab": {}
      },
      "source": [
        "# Salva automaticamente cada 60 seg\n",
        "%autosave 120"
      ],
      "execution_count": 0,
      "outputs": []
    }
  ]
}